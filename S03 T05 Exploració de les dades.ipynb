{
 "cells": [
  {
   "cell_type": "markdown",
   "id": "735a15f8",
   "metadata": {},
   "source": [
    "# S03 T05: Exploració de les dades"
   ]
  },
  {
   "cell_type": "markdown",
   "id": "1cb43d81",
   "metadata": {},
   "source": [
    "## Nivell 1\n",
    "### Exercici 1. Descarrega el data set Airlines Delay: Airline on-time statistics and delay causes i carrega’l a un pandas Dataframe. Explora les dades que conté, i queda’t únicament amb les columnes que consideris rellevants."
   ]
  },
  {
   "cell_type": "code",
   "execution_count": 4,
   "id": "611e7567",
   "metadata": {},
   "outputs": [
    {
     "name": "stdout",
     "output_type": "stream",
     "text": [
      "   Unnamed: 0  Year  Month  DayofMonth  DayOfWeek  DepTime  CRSDepTime  \\\n",
      "0           0  2008      1           3          4   2003.0        1955   \n",
      "1           1  2008      1           3          4    754.0         735   \n",
      "2           2  2008      1           3          4    628.0         620   \n",
      "3           4  2008      1           3          4   1829.0        1755   \n",
      "4           5  2008      1           3          4   1940.0        1915   \n",
      "\n",
      "   ArrTime  CRSArrTime UniqueCarrier  ...  TaxiIn TaxiOut  Cancelled  \\\n",
      "0   2211.0        2225            WN  ...     4.0     8.0          0   \n",
      "1   1002.0        1000            WN  ...     5.0    10.0          0   \n",
      "2    804.0         750            WN  ...     3.0    17.0          0   \n",
      "3   1959.0        1925            WN  ...     3.0    10.0          0   \n",
      "4   2121.0        2110            WN  ...     4.0    10.0          0   \n",
      "\n",
      "   CancellationCode  Diverted  CarrierDelay  WeatherDelay NASDelay  \\\n",
      "0                 N         0           NaN           NaN      NaN   \n",
      "1                 N         0           NaN           NaN      NaN   \n",
      "2                 N         0           NaN           NaN      NaN   \n",
      "3                 N         0           2.0           0.0      0.0   \n",
      "4                 N         0           NaN           NaN      NaN   \n",
      "\n",
      "  SecurityDelay  LateAircraftDelay  \n",
      "0           NaN                NaN  \n",
      "1           NaN                NaN  \n",
      "2           NaN                NaN  \n",
      "3           0.0               32.0  \n",
      "4           NaN                NaN  \n",
      "\n",
      "[5 rows x 30 columns]\n"
     ]
    }
   ],
   "source": [
    "import pandas as pd\n",
    "import matplotlib.pyplot as plt\n",
    "\n",
    "vuelos = pd.read_csv(\"DelayedFlights.csv\")\n",
    "print(vuelos.head())"
   ]
  },
  {
   "cell_type": "code",
   "execution_count": 5,
   "id": "306f7f23",
   "metadata": {},
   "outputs": [
    {
     "name": "stdout",
     "output_type": "stream",
     "text": [
      "<class 'pandas.core.frame.DataFrame'>\n",
      "RangeIndex: 1936758 entries, 0 to 1936757\n",
      "Data columns (total 30 columns):\n",
      " #   Column             Dtype  \n",
      "---  ------             -----  \n",
      " 0   Unnamed: 0         int64  \n",
      " 1   Year               int64  \n",
      " 2   Month              int64  \n",
      " 3   DayofMonth         int64  \n",
      " 4   DayOfWeek          int64  \n",
      " 5   DepTime            float64\n",
      " 6   CRSDepTime         int64  \n",
      " 7   ArrTime            float64\n",
      " 8   CRSArrTime         int64  \n",
      " 9   UniqueCarrier      object \n",
      " 10  FlightNum          int64  \n",
      " 11  TailNum            object \n",
      " 12  ActualElapsedTime  float64\n",
      " 13  CRSElapsedTime     float64\n",
      " 14  AirTime            float64\n",
      " 15  ArrDelay           float64\n",
      " 16  DepDelay           float64\n",
      " 17  Origin             object \n",
      " 18  Dest               object \n",
      " 19  Distance           int64  \n",
      " 20  TaxiIn             float64\n",
      " 21  TaxiOut            float64\n",
      " 22  Cancelled          int64  \n",
      " 23  CancellationCode   object \n",
      " 24  Diverted           int64  \n",
      " 25  CarrierDelay       float64\n",
      " 26  WeatherDelay       float64\n",
      " 27  NASDelay           float64\n",
      " 28  SecurityDelay      float64\n",
      " 29  LateAircraftDelay  float64\n",
      "dtypes: float64(14), int64(11), object(5)\n",
      "memory usage: 443.3+ MB\n",
      "None\n"
     ]
    }
   ],
   "source": [
    "print(vuelos.info())   # para ver todas las variables y el tipo de datos que contienen"
   ]
  },
  {
   "cell_type": "code",
   "execution_count": 6,
   "id": "93c74417",
   "metadata": {},
   "outputs": [
    {
     "data": {
      "text/plain": [
       "0          2008\n",
       "1          2008\n",
       "2          2008\n",
       "3          2008\n",
       "4          2008\n",
       "           ... \n",
       "1936753    2008\n",
       "1936754    2008\n",
       "1936755    2008\n",
       "1936756    2008\n",
       "1936757    2008\n",
       "Name: Year, Length: 1936758, dtype: int64"
      ]
     },
     "execution_count": 6,
     "metadata": {},
     "output_type": "execute_result"
    }
   ],
   "source": [
    "vuelos[\"Year\"]   # todos los datos son para el año 2008"
   ]
  },
  {
   "cell_type": "code",
   "execution_count": 7,
   "id": "0460a47a",
   "metadata": {},
   "outputs": [
    {
     "data": {
      "text/plain": [
       "Unnamed: 0                0\n",
       "Year                      0\n",
       "Month                     0\n",
       "DayofMonth                0\n",
       "DayOfWeek                 0\n",
       "DepTime                   0\n",
       "CRSDepTime                0\n",
       "ArrTime                7110\n",
       "CRSArrTime                0\n",
       "UniqueCarrier             0\n",
       "FlightNum                 0\n",
       "TailNum                   5\n",
       "ActualElapsedTime      8387\n",
       "CRSElapsedTime          198\n",
       "AirTime                8387\n",
       "ArrDelay               8387\n",
       "DepDelay                  0\n",
       "Origin                    0\n",
       "Dest                      0\n",
       "Distance                  0\n",
       "TaxiIn                 7110\n",
       "TaxiOut                 455\n",
       "Cancelled                 0\n",
       "CancellationCode          0\n",
       "Diverted                  0\n",
       "CarrierDelay         689270\n",
       "WeatherDelay         689270\n",
       "NASDelay             689270\n",
       "SecurityDelay        689270\n",
       "LateAircraftDelay    689270\n",
       "dtype: int64"
      ]
     },
     "execution_count": 7,
     "metadata": {},
     "output_type": "execute_result"
    }
   ],
   "source": [
    "vuelos.isna().sum()  # visualizamos los elementos nulos para cada variable"
   ]
  },
  {
   "cell_type": "code",
   "execution_count": 8,
   "id": "2390f394",
   "metadata": {},
   "outputs": [
    {
     "data": {
      "text/plain": [
       "(1936758, 26)"
      ]
     },
     "execution_count": 8,
     "metadata": {},
     "output_type": "execute_result"
    }
   ],
   "source": [
    "#elimino las columnas que creo que no interesan para el análisis\n",
    "vuelos2 = vuelos.drop([\"TaxiIn\", \"TaxiOut\",\"Diverted\",\"TailNum\"], axis=1)\n",
    "vuelos2.shape"
   ]
  },
  {
   "cell_type": "code",
   "execution_count": 9,
   "id": "034f0802",
   "metadata": {},
   "outputs": [
    {
     "data": {
      "text/plain": [
       "0.0"
      ]
     },
     "execution_count": 9,
     "metadata": {},
     "output_type": "execute_result"
    }
   ],
   "source": [
    "vuelos2.isna().sum().median()"
   ]
  },
  {
   "cell_type": "code",
   "execution_count": 10,
   "id": "d682a545",
   "metadata": {},
   "outputs": [
    {
     "data": {
      "text/plain": [
       "Unnamed: 0                0\n",
       "Year                      0\n",
       "Month                     0\n",
       "DayofMonth                0\n",
       "DayOfWeek                 0\n",
       "DepTime                   0\n",
       "CRSDepTime                0\n",
       "ArrTime                   0\n",
       "CRSArrTime                0\n",
       "UniqueCarrier             0\n",
       "FlightNum                 0\n",
       "ActualElapsedTime         0\n",
       "CRSElapsedTime            0\n",
       "AirTime                   0\n",
       "ArrDelay                  0\n",
       "DepDelay                  0\n",
       "Origin                    0\n",
       "Dest                      0\n",
       "Distance                  0\n",
       "Cancelled                 0\n",
       "CancellationCode          0\n",
       "CarrierDelay         680883\n",
       "WeatherDelay         680883\n",
       "NASDelay             680883\n",
       "SecurityDelay        680883\n",
       "LateAircraftDelay    680883\n",
       "dtype: int64"
      ]
     },
     "execution_count": 10,
     "metadata": {},
     "output_type": "execute_result"
    }
   ],
   "source": [
    "#elimino las filas con datos nulos que no me interesan para el análisis \n",
    "vuelos2.dropna(subset=[\"ArrDelay\"], inplace=True)\n",
    "vuelos2.isna().sum()\n",
    "\n",
    "#No elimino los datos de los motivos de retraso de vuelos, porque quiero hacer una comparación"
   ]
  },
  {
   "cell_type": "code",
   "execution_count": 11,
   "id": "d69e653d",
   "metadata": {},
   "outputs": [
    {
     "data": {
      "text/html": [
       "<div>\n",
       "<style scoped>\n",
       "    .dataframe tbody tr th:only-of-type {\n",
       "        vertical-align: middle;\n",
       "    }\n",
       "\n",
       "    .dataframe tbody tr th {\n",
       "        vertical-align: top;\n",
       "    }\n",
       "\n",
       "    .dataframe thead th {\n",
       "        text-align: right;\n",
       "    }\n",
       "</style>\n",
       "<table border=\"1\" class=\"dataframe\">\n",
       "  <thead>\n",
       "    <tr style=\"text-align: right;\">\n",
       "      <th></th>\n",
       "      <th>Distance</th>\n",
       "      <th>ArrDelay</th>\n",
       "      <th>DepDelay</th>\n",
       "      <th>WeatherDelay</th>\n",
       "      <th>NASDelay</th>\n",
       "      <th>SecurityDelay</th>\n",
       "      <th>LateAircraftDelay</th>\n",
       "    </tr>\n",
       "  </thead>\n",
       "  <tbody>\n",
       "    <tr>\n",
       "      <th>count</th>\n",
       "      <td>1928371.00</td>\n",
       "      <td>1928371.00</td>\n",
       "      <td>1928371.00</td>\n",
       "      <td>1247488.00</td>\n",
       "      <td>1247488.00</td>\n",
       "      <td>1247488.00</td>\n",
       "      <td>1247488.00</td>\n",
       "    </tr>\n",
       "    <tr>\n",
       "      <th>mean</th>\n",
       "      <td>764.95</td>\n",
       "      <td>42.20</td>\n",
       "      <td>43.09</td>\n",
       "      <td>3.70</td>\n",
       "      <td>15.02</td>\n",
       "      <td>0.09</td>\n",
       "      <td>25.30</td>\n",
       "    </tr>\n",
       "    <tr>\n",
       "      <th>std</th>\n",
       "      <td>573.89</td>\n",
       "      <td>56.78</td>\n",
       "      <td>53.27</td>\n",
       "      <td>21.49</td>\n",
       "      <td>33.83</td>\n",
       "      <td>2.02</td>\n",
       "      <td>42.05</td>\n",
       "    </tr>\n",
       "    <tr>\n",
       "      <th>min</th>\n",
       "      <td>11.00</td>\n",
       "      <td>-109.00</td>\n",
       "      <td>6.00</td>\n",
       "      <td>0.00</td>\n",
       "      <td>0.00</td>\n",
       "      <td>0.00</td>\n",
       "      <td>0.00</td>\n",
       "    </tr>\n",
       "    <tr>\n",
       "      <th>25%</th>\n",
       "      <td>338.00</td>\n",
       "      <td>9.00</td>\n",
       "      <td>12.00</td>\n",
       "      <td>0.00</td>\n",
       "      <td>0.00</td>\n",
       "      <td>0.00</td>\n",
       "      <td>0.00</td>\n",
       "    </tr>\n",
       "    <tr>\n",
       "      <th>50%</th>\n",
       "      <td>606.00</td>\n",
       "      <td>24.00</td>\n",
       "      <td>24.00</td>\n",
       "      <td>0.00</td>\n",
       "      <td>2.00</td>\n",
       "      <td>0.00</td>\n",
       "      <td>8.00</td>\n",
       "    </tr>\n",
       "    <tr>\n",
       "      <th>75%</th>\n",
       "      <td>997.00</td>\n",
       "      <td>56.00</td>\n",
       "      <td>53.00</td>\n",
       "      <td>0.00</td>\n",
       "      <td>15.00</td>\n",
       "      <td>0.00</td>\n",
       "      <td>33.00</td>\n",
       "    </tr>\n",
       "    <tr>\n",
       "      <th>max</th>\n",
       "      <td>4962.00</td>\n",
       "      <td>2461.00</td>\n",
       "      <td>2467.00</td>\n",
       "      <td>1352.00</td>\n",
       "      <td>1357.00</td>\n",
       "      <td>392.00</td>\n",
       "      <td>1316.00</td>\n",
       "    </tr>\n",
       "  </tbody>\n",
       "</table>\n",
       "</div>"
      ],
      "text/plain": [
       "         Distance    ArrDelay    DepDelay  WeatherDelay    NASDelay  \\\n",
       "count  1928371.00  1928371.00  1928371.00    1247488.00  1247488.00   \n",
       "mean       764.95       42.20       43.09          3.70       15.02   \n",
       "std        573.89       56.78       53.27         21.49       33.83   \n",
       "min         11.00     -109.00        6.00          0.00        0.00   \n",
       "25%        338.00        9.00       12.00          0.00        0.00   \n",
       "50%        606.00       24.00       24.00          0.00        2.00   \n",
       "75%        997.00       56.00       53.00          0.00       15.00   \n",
       "max       4962.00     2461.00     2467.00       1352.00     1357.00   \n",
       "\n",
       "       SecurityDelay  LateAircraftDelay  \n",
       "count     1247488.00         1247488.00  \n",
       "mean            0.09              25.30  \n",
       "std             2.02              42.05  \n",
       "min             0.00               0.00  \n",
       "25%             0.00               0.00  \n",
       "50%             0.00               8.00  \n",
       "75%             0.00              33.00  \n",
       "max           392.00            1316.00  "
      ]
     },
     "execution_count": 11,
     "metadata": {},
     "output_type": "execute_result"
    }
   ],
   "source": [
    "# visualizamos los estadísticos descriptivos para las variables que no hemos tratado\n",
    "round(vuelos2[[\"Origin\",\"Dest\",\"Distance\",\"ArrDelay\",\"DepDelay\",\"WeatherDelay\",\"NASDelay\",\"SecurityDelay\",\"LateAircraftDelay\"]].describe(), 2)"
   ]
  },
  {
   "cell_type": "code",
   "execution_count": 12,
   "id": "720751fc",
   "metadata": {},
   "outputs": [
    {
     "data": {
      "text/html": [
       "<div>\n",
       "<style scoped>\n",
       "    .dataframe tbody tr th:only-of-type {\n",
       "        vertical-align: middle;\n",
       "    }\n",
       "\n",
       "    .dataframe tbody tr th {\n",
       "        vertical-align: top;\n",
       "    }\n",
       "\n",
       "    .dataframe thead th {\n",
       "        text-align: right;\n",
       "    }\n",
       "</style>\n",
       "<table border=\"1\" class=\"dataframe\">\n",
       "  <thead>\n",
       "    <tr style=\"text-align: right;\">\n",
       "      <th></th>\n",
       "      <th>TotalDelay</th>\n",
       "      <th>ArrDelay</th>\n",
       "    </tr>\n",
       "  </thead>\n",
       "  <tbody>\n",
       "    <tr>\n",
       "      <th>0</th>\n",
       "      <td>NaN</td>\n",
       "      <td>-14.0</td>\n",
       "    </tr>\n",
       "    <tr>\n",
       "      <th>1</th>\n",
       "      <td>NaN</td>\n",
       "      <td>2.0</td>\n",
       "    </tr>\n",
       "    <tr>\n",
       "      <th>2</th>\n",
       "      <td>NaN</td>\n",
       "      <td>14.0</td>\n",
       "    </tr>\n",
       "    <tr>\n",
       "      <th>3</th>\n",
       "      <td>34.0</td>\n",
       "      <td>34.0</td>\n",
       "    </tr>\n",
       "    <tr>\n",
       "      <th>4</th>\n",
       "      <td>NaN</td>\n",
       "      <td>11.0</td>\n",
       "    </tr>\n",
       "    <tr>\n",
       "      <th>...</th>\n",
       "      <td>...</td>\n",
       "      <td>...</td>\n",
       "    </tr>\n",
       "    <tr>\n",
       "      <th>1936753</th>\n",
       "      <td>25.0</td>\n",
       "      <td>25.0</td>\n",
       "    </tr>\n",
       "    <tr>\n",
       "      <th>1936754</th>\n",
       "      <td>75.0</td>\n",
       "      <td>75.0</td>\n",
       "    </tr>\n",
       "    <tr>\n",
       "      <th>1936755</th>\n",
       "      <td>99.0</td>\n",
       "      <td>99.0</td>\n",
       "    </tr>\n",
       "    <tr>\n",
       "      <th>1936756</th>\n",
       "      <td>NaN</td>\n",
       "      <td>9.0</td>\n",
       "    </tr>\n",
       "    <tr>\n",
       "      <th>1936757</th>\n",
       "      <td>NaN</td>\n",
       "      <td>-5.0</td>\n",
       "    </tr>\n",
       "  </tbody>\n",
       "</table>\n",
       "<p>1928371 rows × 2 columns</p>\n",
       "</div>"
      ],
      "text/plain": [
       "         TotalDelay  ArrDelay\n",
       "0               NaN     -14.0\n",
       "1               NaN       2.0\n",
       "2               NaN      14.0\n",
       "3              34.0      34.0\n",
       "4               NaN      11.0\n",
       "...             ...       ...\n",
       "1936753        25.0      25.0\n",
       "1936754        75.0      75.0\n",
       "1936755        99.0      99.0\n",
       "1936756         NaN       9.0\n",
       "1936757         NaN      -5.0\n",
       "\n",
       "[1928371 rows x 2 columns]"
      ]
     },
     "execution_count": 12,
     "metadata": {},
     "output_type": "execute_result"
    }
   ],
   "source": [
    "vuelos2[\"TotalDelay\"] = vuelos2[\"CarrierDelay\"]+vuelos2[\"WeatherDelay\"]+vuelos2[\"NASDelay\"]+vuelos2[\"SecurityDelay\"]+vuelos2[\"LateAircraftDelay\"]\n",
    "    \n",
    "vuelos2[[\"TotalDelay\",\"ArrDelay\"]]   #Comprobamos que ArrDelay es la suma de todas las variables Delay.\n"
   ]
  },
  {
   "cell_type": "code",
   "execution_count": 13,
   "id": "94cd3e2c",
   "metadata": {},
   "outputs": [
    {
     "data": {
      "text/html": [
       "<div>\n",
       "<style scoped>\n",
       "    .dataframe tbody tr th:only-of-type {\n",
       "        vertical-align: middle;\n",
       "    }\n",
       "\n",
       "    .dataframe tbody tr th {\n",
       "        vertical-align: top;\n",
       "    }\n",
       "\n",
       "    .dataframe thead th {\n",
       "        text-align: right;\n",
       "    }\n",
       "</style>\n",
       "<table border=\"1\" class=\"dataframe\">\n",
       "  <thead>\n",
       "    <tr style=\"text-align: right;\">\n",
       "      <th></th>\n",
       "      <th>CarrierDelay</th>\n",
       "      <th>WeatherDelay</th>\n",
       "      <th>NASDelay</th>\n",
       "      <th>SecurityDelay</th>\n",
       "      <th>LateAircraftDelay</th>\n",
       "    </tr>\n",
       "  </thead>\n",
       "  <tbody>\n",
       "    <tr>\n",
       "      <th>0</th>\n",
       "      <td>0.0</td>\n",
       "      <td>0.0</td>\n",
       "      <td>0.0</td>\n",
       "      <td>0.0</td>\n",
       "      <td>0.0</td>\n",
       "    </tr>\n",
       "    <tr>\n",
       "      <th>1</th>\n",
       "      <td>0.0</td>\n",
       "      <td>0.0</td>\n",
       "      <td>0.0</td>\n",
       "      <td>0.0</td>\n",
       "      <td>0.0</td>\n",
       "    </tr>\n",
       "    <tr>\n",
       "      <th>2</th>\n",
       "      <td>0.0</td>\n",
       "      <td>0.0</td>\n",
       "      <td>0.0</td>\n",
       "      <td>0.0</td>\n",
       "      <td>0.0</td>\n",
       "    </tr>\n",
       "    <tr>\n",
       "      <th>3</th>\n",
       "      <td>2.0</td>\n",
       "      <td>0.0</td>\n",
       "      <td>0.0</td>\n",
       "      <td>0.0</td>\n",
       "      <td>32.0</td>\n",
       "    </tr>\n",
       "    <tr>\n",
       "      <th>4</th>\n",
       "      <td>0.0</td>\n",
       "      <td>0.0</td>\n",
       "      <td>0.0</td>\n",
       "      <td>0.0</td>\n",
       "      <td>0.0</td>\n",
       "    </tr>\n",
       "    <tr>\n",
       "      <th>...</th>\n",
       "      <td>...</td>\n",
       "      <td>...</td>\n",
       "      <td>...</td>\n",
       "      <td>...</td>\n",
       "      <td>...</td>\n",
       "    </tr>\n",
       "    <tr>\n",
       "      <th>1936753</th>\n",
       "      <td>3.0</td>\n",
       "      <td>0.0</td>\n",
       "      <td>0.0</td>\n",
       "      <td>0.0</td>\n",
       "      <td>22.0</td>\n",
       "    </tr>\n",
       "    <tr>\n",
       "      <th>1936754</th>\n",
       "      <td>0.0</td>\n",
       "      <td>57.0</td>\n",
       "      <td>18.0</td>\n",
       "      <td>0.0</td>\n",
       "      <td>0.0</td>\n",
       "    </tr>\n",
       "    <tr>\n",
       "      <th>1936755</th>\n",
       "      <td>1.0</td>\n",
       "      <td>0.0</td>\n",
       "      <td>19.0</td>\n",
       "      <td>0.0</td>\n",
       "      <td>79.0</td>\n",
       "    </tr>\n",
       "    <tr>\n",
       "      <th>1936756</th>\n",
       "      <td>0.0</td>\n",
       "      <td>0.0</td>\n",
       "      <td>0.0</td>\n",
       "      <td>0.0</td>\n",
       "      <td>0.0</td>\n",
       "    </tr>\n",
       "    <tr>\n",
       "      <th>1936757</th>\n",
       "      <td>0.0</td>\n",
       "      <td>0.0</td>\n",
       "      <td>0.0</td>\n",
       "      <td>0.0</td>\n",
       "      <td>0.0</td>\n",
       "    </tr>\n",
       "  </tbody>\n",
       "</table>\n",
       "<p>1928371 rows × 5 columns</p>\n",
       "</div>"
      ],
      "text/plain": [
       "         CarrierDelay  WeatherDelay  NASDelay  SecurityDelay  \\\n",
       "0                 0.0           0.0       0.0            0.0   \n",
       "1                 0.0           0.0       0.0            0.0   \n",
       "2                 0.0           0.0       0.0            0.0   \n",
       "3                 2.0           0.0       0.0            0.0   \n",
       "4                 0.0           0.0       0.0            0.0   \n",
       "...               ...           ...       ...            ...   \n",
       "1936753           3.0           0.0       0.0            0.0   \n",
       "1936754           0.0          57.0      18.0            0.0   \n",
       "1936755           1.0           0.0      19.0            0.0   \n",
       "1936756           0.0           0.0       0.0            0.0   \n",
       "1936757           0.0           0.0       0.0            0.0   \n",
       "\n",
       "         LateAircraftDelay  \n",
       "0                      0.0  \n",
       "1                      0.0  \n",
       "2                      0.0  \n",
       "3                     32.0  \n",
       "4                      0.0  \n",
       "...                    ...  \n",
       "1936753               22.0  \n",
       "1936754                0.0  \n",
       "1936755               79.0  \n",
       "1936756                0.0  \n",
       "1936757                0.0  \n",
       "\n",
       "[1928371 rows x 5 columns]"
      ]
     },
     "execution_count": 13,
     "metadata": {},
     "output_type": "execute_result"
    }
   ],
   "source": [
    "# No es necesario eliminar todas las filas de NaN en retrasos.\n",
    "# Sustituimos los valores nulos NaN por 0 para que queden como válidos.\n",
    "\n",
    "vuelos2[\"CarrierDelay\"].fillna(0, inplace = True)\n",
    "vuelos2[\"WeatherDelay\"].fillna(0, inplace = True)\n",
    "vuelos2[\"NASDelay\"].fillna(0, inplace = True)\n",
    "vuelos2[\"SecurityDelay\"].fillna(0, inplace = True)\n",
    "vuelos2[\"LateAircraftDelay\"].fillna(0, inplace = True)\n",
    "vuelos2[[\"CarrierDelay\", \"WeatherDelay\", \"NASDelay\", \"SecurityDelay\", \"LateAircraftDelay\"]]"
   ]
  },
  {
   "cell_type": "code",
   "execution_count": 14,
   "id": "e630e680",
   "metadata": {},
   "outputs": [
    {
     "data": {
      "text/plain": [
       "Unnamed: 0                0\n",
       "Year                      0\n",
       "Month                     0\n",
       "DayofMonth                0\n",
       "DayOfWeek                 0\n",
       "DepTime                   0\n",
       "CRSDepTime                0\n",
       "ArrTime                   0\n",
       "CRSArrTime                0\n",
       "UniqueCarrier             0\n",
       "FlightNum                 0\n",
       "ActualElapsedTime         0\n",
       "CRSElapsedTime            0\n",
       "AirTime                   0\n",
       "ArrDelay                  0\n",
       "DepDelay                  0\n",
       "Origin                    0\n",
       "Dest                      0\n",
       "Distance                  0\n",
       "Cancelled                 0\n",
       "CancellationCode          0\n",
       "CarrierDelay              0\n",
       "WeatherDelay              0\n",
       "NASDelay                  0\n",
       "SecurityDelay             0\n",
       "LateAircraftDelay         0\n",
       "TotalDelay           680883\n",
       "dtype: int64"
      ]
     },
     "execution_count": 14,
     "metadata": {},
     "output_type": "execute_result"
    }
   ],
   "source": [
    "vuelos2.isna().sum()  # la columna TotalDelay, solo era para comprobar, la eliminaré al final."
   ]
  },
  {
   "cell_type": "markdown",
   "id": "1a7b1f31",
   "metadata": {},
   "source": [
    "## Nivell 2\n",
    "### - Crea columnes noves (velocitat mitjana del vol, si ha arribat tard o no...)\n",
    "### - Taula de les aerolínies amb més endarreriments acumulats\n",
    "### - Quins són els vols més llargs? I els més endarrerits?\n"
   ]
  },
  {
   "cell_type": "code",
   "execution_count": 15,
   "id": "763963f7",
   "metadata": {},
   "outputs": [
    {
     "data": {
      "text/plain": [
       "(1928371, 28)"
      ]
     },
     "execution_count": 15,
     "metadata": {},
     "output_type": "execute_result"
    }
   ],
   "source": [
    "#creamos una nueva columna con la velocidad: distancia (de millas a km)/ tiempo (de min. a horas).\n",
    "\n",
    "vuelos2[\"velocidad\"] = vuelos2[\"Distance\"]*1.6093//vuelos2[\"ActualElapsedTime\"] * 60\n",
    "vuelos2.shape"
   ]
  },
  {
   "cell_type": "code",
   "execution_count": 16,
   "id": "cd39ef38",
   "metadata": {},
   "outputs": [
    {
     "data": {
      "text/plain": [
       "477.26"
      ]
     },
     "execution_count": 16,
     "metadata": {},
     "output_type": "execute_result"
    }
   ],
   "source": [
    "round(vuelos2[\"velocidad\"].mean(),2)   # la velocidad media de vuelo es de 477.26 km/h"
   ]
  },
  {
   "cell_type": "code",
   "execution_count": 17,
   "id": "f0e98e1e",
   "metadata": {},
   "outputs": [
    {
     "data": {
      "text/plain": [
       "(1928371, 29)"
      ]
     },
     "execution_count": 17,
     "metadata": {},
     "output_type": "execute_result"
    }
   ],
   "source": [
    "# creamos una nueva columna de vuelos con retraso en la llegada. ArrDelay solo números positivos \n",
    "vuelos2[\"delay_arr\"] = vuelos2[\"ArrDelay\"]>0\n",
    "vuelos2.shape"
   ]
  },
  {
   "cell_type": "code",
   "execution_count": 18,
   "id": "0e6f1a38",
   "metadata": {},
   "outputs": [
    {
     "data": {
      "text/plain": [
       "0          False\n",
       "1           True\n",
       "2           True\n",
       "3           True\n",
       "4           True\n",
       "           ...  \n",
       "1936753     True\n",
       "1936754     True\n",
       "1936755     True\n",
       "1936756     True\n",
       "1936757    False\n",
       "Name: delay_arr, Length: 1928371, dtype: bool"
      ]
     },
     "execution_count": 18,
     "metadata": {},
     "output_type": "execute_result"
    }
   ],
   "source": [
    "vuelos2[\"delay_arr\"]"
   ]
  },
  {
   "cell_type": "code",
   "execution_count": 19,
   "id": "d8bf7f1a",
   "metadata": {},
   "outputs": [
    {
     "data": {
      "text/plain": [
       "322516     2461.0\n",
       "686014     2453.0\n",
       "839306     1951.0\n",
       "1009553    1707.0\n",
       "1881639    1655.0\n",
       "Name: ArrDelay, dtype: float64"
      ]
     },
     "execution_count": 19,
     "metadata": {},
     "output_type": "execute_result"
    }
   ],
   "source": [
    "# los vuelos con mayor retraso en llegadas del 2008.\n",
    "# El mayor retraso en llegadas es de 2461 minutos (41 horas)\n",
    "vuelos2[\"ArrDelay\"].nlargest()"
   ]
  },
  {
   "cell_type": "code",
   "execution_count": 20,
   "id": "cb8268ae",
   "metadata": {},
   "outputs": [
    {
     "data": {
      "text/html": [
       "<div>\n",
       "<style scoped>\n",
       "    .dataframe tbody tr th:only-of-type {\n",
       "        vertical-align: middle;\n",
       "    }\n",
       "\n",
       "    .dataframe tbody tr th {\n",
       "        vertical-align: top;\n",
       "    }\n",
       "\n",
       "    .dataframe thead th {\n",
       "        text-align: right;\n",
       "    }\n",
       "</style>\n",
       "<table border=\"1\" class=\"dataframe\">\n",
       "  <thead>\n",
       "    <tr style=\"text-align: right;\">\n",
       "      <th></th>\n",
       "      <th>Unnamed: 0</th>\n",
       "      <th>Year</th>\n",
       "      <th>Month</th>\n",
       "      <th>DayofMonth</th>\n",
       "      <th>DayOfWeek</th>\n",
       "      <th>DepTime</th>\n",
       "      <th>CRSDepTime</th>\n",
       "      <th>ArrTime</th>\n",
       "      <th>CRSArrTime</th>\n",
       "      <th>UniqueCarrier</th>\n",
       "      <th>...</th>\n",
       "      <th>Cancelled</th>\n",
       "      <th>CancellationCode</th>\n",
       "      <th>CarrierDelay</th>\n",
       "      <th>WeatherDelay</th>\n",
       "      <th>NASDelay</th>\n",
       "      <th>SecurityDelay</th>\n",
       "      <th>LateAircraftDelay</th>\n",
       "      <th>TotalDelay</th>\n",
       "      <th>velocidad</th>\n",
       "      <th>delay_arr</th>\n",
       "    </tr>\n",
       "  </thead>\n",
       "  <tbody>\n",
       "    <tr>\n",
       "      <th>323803</th>\n",
       "      <td>1023327</td>\n",
       "      <td>2008</td>\n",
       "      <td>2</td>\n",
       "      <td>7</td>\n",
       "      <td>4</td>\n",
       "      <td>1729.0</td>\n",
       "      <td>1719</td>\n",
       "      <td>1900.0</td>\n",
       "      <td>1850</td>\n",
       "      <td>NW</td>\n",
       "      <td>...</td>\n",
       "      <td>0</td>\n",
       "      <td>N</td>\n",
       "      <td>0.0</td>\n",
       "      <td>0.0</td>\n",
       "      <td>0.0</td>\n",
       "      <td>0.0</td>\n",
       "      <td>0.0</td>\n",
       "      <td>NaN</td>\n",
       "      <td>420.0</td>\n",
       "      <td>True</td>\n",
       "    </tr>\n",
       "  </tbody>\n",
       "</table>\n",
       "<p>1 rows × 29 columns</p>\n",
       "</div>"
      ],
      "text/plain": [
       "        Unnamed: 0  Year  Month  DayofMonth  DayOfWeek  DepTime  CRSDepTime  \\\n",
       "323803     1023327  2008      2           7          4   1729.0        1719   \n",
       "\n",
       "        ArrTime  CRSArrTime UniqueCarrier  ...  Cancelled  CancellationCode  \\\n",
       "323803   1900.0        1850            NW  ...          0                 N   \n",
       "\n",
       "        CarrierDelay  WeatherDelay  NASDelay  SecurityDelay LateAircraftDelay  \\\n",
       "323803           0.0           0.0       0.0            0.0               0.0   \n",
       "\n",
       "       TotalDelay  velocidad  delay_arr  \n",
       "323803        NaN      420.0       True  \n",
       "\n",
       "[1 rows x 29 columns]"
      ]
     },
     "execution_count": 20,
     "metadata": {},
     "output_type": "execute_result"
    }
   ],
   "source": [
    "vuelos2.iloc[[322516]]\n",
    "# ubicamos el vuelo con mayor retraso\n",
    "# el mayor retraso en llegadas corresponde a la aerolinea NW, un 7 de febrero del 2008"
   ]
  },
  {
   "cell_type": "code",
   "execution_count": 21,
   "id": "d9c5f357",
   "metadata": {},
   "outputs": [
    {
     "data": {
      "text/plain": [
       "(1928371, 30)"
      ]
     },
     "execution_count": 21,
     "metadata": {},
     "output_type": "execute_result"
    }
   ],
   "source": [
    "#insertar columna con retrasos de más de 3 horas. Tiempo en el que un pasajero puede pedir indemnización\n",
    "vuelos2[\"delay3h\"] = vuelos2[\"ArrDelay\"] > 180\n",
    "vuelos2.shape"
   ]
  },
  {
   "cell_type": "code",
   "execution_count": 22,
   "id": "f76a3393",
   "metadata": {},
   "outputs": [
    {
     "data": {
      "text/plain": [
       "57713"
      ]
     },
     "execution_count": 22,
     "metadata": {},
     "output_type": "execute_result"
    }
   ],
   "source": [
    "vuelos2[\"delay3h\"].sum()  # Se han efectuado 57.713 vuelos con retrasos en las llegadas de más de 3 hrs."
   ]
  },
  {
   "cell_type": "code",
   "execution_count": 23,
   "id": "048452ca",
   "metadata": {},
   "outputs": [
    {
     "data": {
      "text/plain": [
       "<AxesSubplot:xlabel='Month'>"
      ]
     },
     "execution_count": 23,
     "metadata": {},
     "output_type": "execute_result"
    },
    {
     "data": {
      "image/png": "[encoded data removed]",
      "text/plain": [
       "<Figure size 432x288 with 1 Axes>"
      ]
     },
     "metadata": {
      "needs_background": "light"
     },
     "output_type": "display_data"
    }
   ],
   "source": [
    "# agrupación por mes de los retrasos.\n",
    "month_delayed = vuelos2.groupby(\"Month\")[\"ArrDelay\"].sum()\n",
    "month_delayed.plot(kind = \"bar\")   #Los meses de Junio y Diciembre tuvieron mas retrasos en llegadas (en minutos)"
   ]
  },
  {
   "cell_type": "code",
   "execution_count": 24,
   "id": "377de552",
   "metadata": {},
   "outputs": [
    {
     "data": {
      "text/plain": [
       "UniqueCarrier\n",
       "WN    11319092.0\n",
       "AA     8889066.0\n",
       "UA     6733013.0\n",
       "MQ     6396704.0\n",
       "OO     5978936.0\n",
       "XE     5176042.0\n",
       "DL     4535644.0\n",
       "CO     4045932.0\n",
       "EV     3888131.0\n",
       "YV     3691461.0\n",
       "US     3571867.0\n",
       "NW     3462075.0\n",
       "FL     3100150.0\n",
       "B6     3025749.0\n",
       "OH     2675993.0\n",
       "9E     2420468.0\n",
       "AS     1406735.0\n",
       "F9      788549.0\n",
       "HA      255613.0\n",
       "AQ       15814.0\n",
       "Name: ArrDelay, dtype: float64"
      ]
     },
     "execution_count": 24,
     "metadata": {},
     "output_type": "execute_result"
    }
   ],
   "source": [
    "# Las 10 compañías aereas con más retrasos acumulados (en minutos)\n",
    "airlines_delayed = vuelos2.groupby(\"UniqueCarrier\")[\"ArrDelay\"].sum().sort_values(ascending=False)\n",
    "airlines_delayed"
   ]
  },
  {
   "cell_type": "code",
   "execution_count": 25,
   "id": "d2ab4977",
   "metadata": {},
   "outputs": [
    {
     "data": {
      "text/plain": [
       "<AxesSubplot:xlabel='UniqueCarrier'>"
      ]
     },
     "execution_count": 25,
     "metadata": {},
     "output_type": "execute_result"
    },
    {
     "data": {
      "image/png": "[encoded data removed]",
      "text/plain": [
       "<Figure size 432x288 with 1 Axes>"
      ]
     },
     "metadata": {
      "needs_background": "light"
     },
     "output_type": "display_data"
    }
   ],
   "source": [
    "airlines_delayed[:10].plot(kind=\"bar\") # los 10 con más retrasos"
   ]
  },
  {
   "cell_type": "code",
   "execution_count": 26,
   "id": "dab0b17e",
   "metadata": {},
   "outputs": [
    {
     "data": {
      "text/html": [
       "<div>\n",
       "<style scoped>\n",
       "    .dataframe tbody tr th:only-of-type {\n",
       "        vertical-align: middle;\n",
       "    }\n",
       "\n",
       "    .dataframe tbody tr th {\n",
       "        vertical-align: top;\n",
       "    }\n",
       "\n",
       "    .dataframe thead th {\n",
       "        text-align: right;\n",
       "    }\n",
       "</style>\n",
       "<table border=\"1\" class=\"dataframe\">\n",
       "  <thead>\n",
       "    <tr style=\"text-align: right;\">\n",
       "      <th></th>\n",
       "      <th>ArrDelay</th>\n",
       "    </tr>\n",
       "    <tr>\n",
       "      <th>UniqueCarrier</th>\n",
       "      <th></th>\n",
       "    </tr>\n",
       "  </thead>\n",
       "  <tbody>\n",
       "    <tr>\n",
       "      <th>9E</th>\n",
       "      <td>46.94</td>\n",
       "    </tr>\n",
       "    <tr>\n",
       "      <th>AA</th>\n",
       "      <td>46.56</td>\n",
       "    </tr>\n",
       "    <tr>\n",
       "      <th>AQ</th>\n",
       "      <td>21.26</td>\n",
       "    </tr>\n",
       "    <tr>\n",
       "      <th>AS</th>\n",
       "      <td>36.06</td>\n",
       "    </tr>\n",
       "    <tr>\n",
       "      <th>B6</th>\n",
       "      <td>55.09</td>\n",
       "    </tr>\n",
       "    <tr>\n",
       "      <th>CO</th>\n",
       "      <td>40.57</td>\n",
       "    </tr>\n",
       "    <tr>\n",
       "      <th>DL</th>\n",
       "      <td>39.88</td>\n",
       "    </tr>\n",
       "    <tr>\n",
       "      <th>EV</th>\n",
       "      <td>47.55</td>\n",
       "    </tr>\n",
       "    <tr>\n",
       "      <th>F9</th>\n",
       "      <td>27.94</td>\n",
       "    </tr>\n",
       "    <tr>\n",
       "      <th>FL</th>\n",
       "      <td>43.68</td>\n",
       "    </tr>\n",
       "    <tr>\n",
       "      <th>HA</th>\n",
       "      <td>34.21</td>\n",
       "    </tr>\n",
       "    <tr>\n",
       "      <th>MQ</th>\n",
       "      <td>45.30</td>\n",
       "    </tr>\n",
       "    <tr>\n",
       "      <th>NW</th>\n",
       "      <td>43.91</td>\n",
       "    </tr>\n",
       "    <tr>\n",
       "      <th>OH</th>\n",
       "      <td>51.02</td>\n",
       "    </tr>\n",
       "    <tr>\n",
       "      <th>OO</th>\n",
       "      <td>45.37</td>\n",
       "    </tr>\n",
       "    <tr>\n",
       "      <th>UA</th>\n",
       "      <td>47.78</td>\n",
       "    </tr>\n",
       "    <tr>\n",
       "      <th>US</th>\n",
       "      <td>36.45</td>\n",
       "    </tr>\n",
       "    <tr>\n",
       "      <th>WN</th>\n",
       "      <td>30.09</td>\n",
       "    </tr>\n",
       "    <tr>\n",
       "      <th>XE</th>\n",
       "      <td>50.18</td>\n",
       "    </tr>\n",
       "    <tr>\n",
       "      <th>YV</th>\n",
       "      <td>55.29</td>\n",
       "    </tr>\n",
       "  </tbody>\n",
       "</table>\n",
       "</div>"
      ],
      "text/plain": [
       "               ArrDelay\n",
       "UniqueCarrier          \n",
       "9E                46.94\n",
       "AA                46.56\n",
       "AQ                21.26\n",
       "AS                36.06\n",
       "B6                55.09\n",
       "CO                40.57\n",
       "DL                39.88\n",
       "EV                47.55\n",
       "F9                27.94\n",
       "FL                43.68\n",
       "HA                34.21\n",
       "MQ                45.30\n",
       "NW                43.91\n",
       "OH                51.02\n",
       "OO                45.37\n",
       "UA                47.78\n",
       "US                36.45\n",
       "WN                30.09\n",
       "XE                50.18\n",
       "YV                55.29"
      ]
     },
     "execution_count": 26,
     "metadata": {},
     "output_type": "execute_result"
    }
   ],
   "source": [
    "# La media de retrasos de vuelos, según la compañía aérea no supera los 60 min.\n",
    "meandelay_airl = round(vuelos2[[\"UniqueCarrier\", \"ArrDelay\"]].groupby(\"UniqueCarrier\").mean(),2)\n",
    "meandelay_airl"
   ]
  },
  {
   "cell_type": "code",
   "execution_count": 27,
   "id": "837ae8dc",
   "metadata": {},
   "outputs": [
    {
     "data": {
      "text/plain": [
       "UniqueCarrier\n",
       "AA    6080\n",
       "WN    5740\n",
       "UA    5461\n",
       "XE    4517\n",
       "OO    3951\n",
       "MQ    3913\n",
       "CO    3398\n",
       "YV    3353\n",
       "DL    3309\n",
       "B6    3262\n",
       "EV    2931\n",
       "FL    2373\n",
       "US    2250\n",
       "NW    2101\n",
       "OH    1981\n",
       "9E    1721\n",
       "AS     882\n",
       "F9     279\n",
       "HA     206\n",
       "AQ       5\n",
       "Name: delay3h, dtype: int64"
      ]
     },
     "execution_count": 27,
     "metadata": {},
     "output_type": "execute_result"
    }
   ],
   "source": [
    "# Retrasos de más de 3hrs en llegadas según compañía aérea\n",
    "airlines_del3h = vuelos2.groupby(\"UniqueCarrier\")[\"delay3h\"].sum().sort_values(ascending=False)\n",
    "airlines_del3h"
   ]
  },
  {
   "cell_type": "code",
   "execution_count": 28,
   "id": "772b139c",
   "metadata": {},
   "outputs": [
    {
     "data": {
      "text/plain": [
       "57713"
      ]
     },
     "execution_count": 28,
     "metadata": {},
     "output_type": "execute_result"
    }
   ],
   "source": [
    "airlines_del3h.sum()  #57.713 vuelos con retraso en las llegadas de más de 3 horas, con derecho a inmdemnización por pasajero"
   ]
  },
  {
   "cell_type": "code",
   "execution_count": 29,
   "id": "5993b9a5",
   "metadata": {},
   "outputs": [
    {
     "data": {
      "text/html": [
       "<div>\n",
       "<style scoped>\n",
       "    .dataframe tbody tr th:only-of-type {\n",
       "        vertical-align: middle;\n",
       "    }\n",
       "\n",
       "    .dataframe tbody tr th {\n",
       "        vertical-align: top;\n",
       "    }\n",
       "\n",
       "    .dataframe thead th {\n",
       "        text-align: right;\n",
       "    }\n",
       "</style>\n",
       "<table border=\"1\" class=\"dataframe\">\n",
       "  <thead>\n",
       "    <tr style=\"text-align: right;\">\n",
       "      <th></th>\n",
       "      <th>Unnamed: 0</th>\n",
       "      <th>Year</th>\n",
       "      <th>Month</th>\n",
       "      <th>DayofMonth</th>\n",
       "      <th>DayOfWeek</th>\n",
       "      <th>DepTime</th>\n",
       "      <th>CRSDepTime</th>\n",
       "      <th>ArrTime</th>\n",
       "      <th>CRSArrTime</th>\n",
       "      <th>UniqueCarrier</th>\n",
       "      <th>...</th>\n",
       "      <th>WeatherDelay</th>\n",
       "      <th>NASDelay</th>\n",
       "      <th>SecurityDelay</th>\n",
       "      <th>LateAircraftDelay</th>\n",
       "      <th>TotalDelay</th>\n",
       "      <th>velocidad</th>\n",
       "      <th>delay_arr</th>\n",
       "      <th>delay3h</th>\n",
       "      <th>Distance_km</th>\n",
       "      <th>dist_group</th>\n",
       "    </tr>\n",
       "  </thead>\n",
       "  <tbody>\n",
       "    <tr>\n",
       "      <th>0</th>\n",
       "      <td>0</td>\n",
       "      <td>2008</td>\n",
       "      <td>1</td>\n",
       "      <td>3</td>\n",
       "      <td>4</td>\n",
       "      <td>2003.0</td>\n",
       "      <td>1955</td>\n",
       "      <td>2211.0</td>\n",
       "      <td>2225</td>\n",
       "      <td>WN</td>\n",
       "      <td>...</td>\n",
       "      <td>0.0</td>\n",
       "      <td>0.0</td>\n",
       "      <td>0.0</td>\n",
       "      <td>0.0</td>\n",
       "      <td>NaN</td>\n",
       "      <td>600.0</td>\n",
       "      <td>False</td>\n",
       "      <td>False</td>\n",
       "      <td>503.310510</td>\n",
       "      <td>A</td>\n",
       "    </tr>\n",
       "    <tr>\n",
       "      <th>1</th>\n",
       "      <td>1</td>\n",
       "      <td>2008</td>\n",
       "      <td>1</td>\n",
       "      <td>3</td>\n",
       "      <td>4</td>\n",
       "      <td>754.0</td>\n",
       "      <td>735</td>\n",
       "      <td>1002.0</td>\n",
       "      <td>1000</td>\n",
       "      <td>WN</td>\n",
       "      <td>...</td>\n",
       "      <td>0.0</td>\n",
       "      <td>0.0</td>\n",
       "      <td>0.0</td>\n",
       "      <td>0.0</td>\n",
       "      <td>NaN</td>\n",
       "      <td>600.0</td>\n",
       "      <td>True</td>\n",
       "      <td>False</td>\n",
       "      <td>503.310510</td>\n",
       "      <td>A</td>\n",
       "    </tr>\n",
       "    <tr>\n",
       "      <th>2</th>\n",
       "      <td>2</td>\n",
       "      <td>2008</td>\n",
       "      <td>1</td>\n",
       "      <td>3</td>\n",
       "      <td>4</td>\n",
       "      <td>628.0</td>\n",
       "      <td>620</td>\n",
       "      <td>804.0</td>\n",
       "      <td>750</td>\n",
       "      <td>WN</td>\n",
       "      <td>...</td>\n",
       "      <td>0.0</td>\n",
       "      <td>0.0</td>\n",
       "      <td>0.0</td>\n",
       "      <td>0.0</td>\n",
       "      <td>NaN</td>\n",
       "      <td>480.0</td>\n",
       "      <td>True</td>\n",
       "      <td>False</td>\n",
       "      <td>320.006065</td>\n",
       "      <td>A</td>\n",
       "    </tr>\n",
       "    <tr>\n",
       "      <th>3</th>\n",
       "      <td>4</td>\n",
       "      <td>2008</td>\n",
       "      <td>1</td>\n",
       "      <td>3</td>\n",
       "      <td>4</td>\n",
       "      <td>1829.0</td>\n",
       "      <td>1755</td>\n",
       "      <td>1959.0</td>\n",
       "      <td>1925</td>\n",
       "      <td>WN</td>\n",
       "      <td>...</td>\n",
       "      <td>0.0</td>\n",
       "      <td>0.0</td>\n",
       "      <td>0.0</td>\n",
       "      <td>32.0</td>\n",
       "      <td>34.0</td>\n",
       "      <td>540.0</td>\n",
       "      <td>True</td>\n",
       "      <td>False</td>\n",
       "      <td>320.006065</td>\n",
       "      <td>A</td>\n",
       "    </tr>\n",
       "    <tr>\n",
       "      <th>4</th>\n",
       "      <td>5</td>\n",
       "      <td>2008</td>\n",
       "      <td>1</td>\n",
       "      <td>3</td>\n",
       "      <td>4</td>\n",
       "      <td>1940.0</td>\n",
       "      <td>1915</td>\n",
       "      <td>2121.0</td>\n",
       "      <td>2110</td>\n",
       "      <td>WN</td>\n",
       "      <td>...</td>\n",
       "      <td>0.0</td>\n",
       "      <td>0.0</td>\n",
       "      <td>0.0</td>\n",
       "      <td>0.0</td>\n",
       "      <td>NaN</td>\n",
       "      <td>600.0</td>\n",
       "      <td>True</td>\n",
       "      <td>False</td>\n",
       "      <td>427.503248</td>\n",
       "      <td>A</td>\n",
       "    </tr>\n",
       "  </tbody>\n",
       "</table>\n",
       "<p>5 rows × 32 columns</p>\n",
       "</div>"
      ],
      "text/plain": [
       "   Unnamed: 0  Year  Month  DayofMonth  DayOfWeek  DepTime  CRSDepTime  \\\n",
       "0           0  2008      1           3          4   2003.0        1955   \n",
       "1           1  2008      1           3          4    754.0         735   \n",
       "2           2  2008      1           3          4    628.0         620   \n",
       "3           4  2008      1           3          4   1829.0        1755   \n",
       "4           5  2008      1           3          4   1940.0        1915   \n",
       "\n",
       "   ArrTime  CRSArrTime UniqueCarrier  ...  WeatherDelay  NASDelay  \\\n",
       "0   2211.0        2225            WN  ...           0.0       0.0   \n",
       "1   1002.0        1000            WN  ...           0.0       0.0   \n",
       "2    804.0         750            WN  ...           0.0       0.0   \n",
       "3   1959.0        1925            WN  ...           0.0       0.0   \n",
       "4   2121.0        2110            WN  ...           0.0       0.0   \n",
       "\n",
       "   SecurityDelay  LateAircraftDelay  TotalDelay  velocidad delay_arr delay3h  \\\n",
       "0            0.0                0.0         NaN      600.0     False   False   \n",
       "1            0.0                0.0         NaN      600.0      True   False   \n",
       "2            0.0                0.0         NaN      480.0      True   False   \n",
       "3            0.0               32.0        34.0      540.0      True   False   \n",
       "4            0.0                0.0         NaN      600.0      True   False   \n",
       "\n",
       "   Distance_km  dist_group  \n",
       "0   503.310510           A  \n",
       "1   503.310510           A  \n",
       "2   320.006065           A  \n",
       "3   320.006065           A  \n",
       "4   427.503248           A  \n",
       "\n",
       "[5 rows x 32 columns]"
      ]
     },
     "execution_count": 29,
     "metadata": {},
     "output_type": "execute_result"
    }
   ],
   "source": [
    "import numpy as np\n",
    "# Si la demora se prolonga más de 3 horas, tienes derecho a indemnización:\n",
    "# 250€ para vuelos entre 0 y 1.500 km de distancia - A\n",
    "# 400€ entre 1.500 y 3.000 km  - B\n",
    "# 600€ cuando la distancia sea mayor de 3.000 km. -C\n",
    "\n",
    "#Creo una columna de distancia en km, no en millas\n",
    "\n",
    "vuelos2[\"Distance_km\"] = vuelos2[\"Distance\"]*0.621371\n",
    "round(vuelos2[\"Distance_km\"],2)\n",
    "\n",
    "# definir condiciones\n",
    "conditions = [(vuelos2[\"Distance_km\"]<=1500),(vuelos2[\"Distance_km\"]>1500) & (vuelos2[\"Distance_km\"]<3000), (vuelos2[\"Distance_km\"]>3000)]\n",
    "# definir valores\n",
    "values = [\"A\", \"B\", \"C\"]\n",
    "# nueva columna asignando las condiciones y los valores\n",
    "vuelos2[\"dist_group\"] = np.select(conditions,values)\n",
    "vuelos2.head()"
   ]
  },
  {
   "cell_type": "code",
   "execution_count": 30,
   "id": "5ad15988",
   "metadata": {},
   "outputs": [
    {
     "data": {
      "text/plain": [
       "dist_group\n",
       "A    55727\n",
       "B     1973\n",
       "C       13\n",
       "Name: delay3h, dtype: int64"
      ]
     },
     "execution_count": 30,
     "metadata": {},
     "output_type": "execute_result"
    }
   ],
   "source": [
    "# Cantidad de vuelos con retraso en llegadas, según las distancias de vuelo\n",
    "delay_dist = vuelos2.groupby(\"dist_group\")[\"delay3h\"].sum()\n",
    "delay_dist"
   ]
  },
  {
   "cell_type": "code",
   "execution_count": 31,
   "id": "8dbd4a7e",
   "metadata": {},
   "outputs": [
    {
     "data": {
      "image/png": "[encoded data removed]",
      "text/plain": [
       "<Figure size 432x288 with 1 Axes>"
      ]
     },
     "metadata": {
      "needs_background": "light"
     },
     "output_type": "display_data"
    }
   ],
   "source": [
    "# total retrasos en llegadas según la compañía aerea.\n",
    "x = vuelos2[\"UniqueCarrier\"]\n",
    "y = vuelos2[\"ArrDelay\"]\n",
    "\n",
    "plt.scatter(x,y)\n",
    "plt.show()"
   ]
  },
  {
   "cell_type": "code",
   "execution_count": 33,
   "id": "f8db4ddb",
   "metadata": {},
   "outputs": [
    {
     "data": {
      "image/png": "[encoded data removed]",
      "text/plain": [
       "<Figure size 432x288 with 1 Axes>"
      ]
     },
     "metadata": {
      "needs_background": "light"
     },
     "output_type": "display_data"
    }
   ],
   "source": [
    "# total retrasos en salidas según la compañía aerea.\n",
    "x = vuelos2[\"UniqueCarrier\"]\n",
    "y = vuelos2[\"DepDelay\"]\n",
    "\n",
    "plt.scatter(x,y)\n",
    "plt.show()"
   ]
  },
  {
   "cell_type": "code",
   "execution_count": 34,
   "id": "a6c9fd89",
   "metadata": {},
   "outputs": [
    {
     "data": {
      "text/plain": [
       "Origin\n",
       "ORD    6324088.0\n",
       "ATL    5361202.0\n",
       "DFW    3639814.0\n",
       "DEN    2785748.0\n",
       "EWR    2658748.0\n",
       "LAX    2231876.0\n",
       "SFO    2139602.0\n",
       "IAH    2129893.0\n",
       "LAS    2073885.0\n",
       "PHX    1952496.0\n",
       "Name: DepDelay, dtype: float64"
      ]
     },
     "execution_count": 34,
     "metadata": {},
     "output_type": "execute_result"
    }
   ],
   "source": [
    "# los 10 aeropuertos de origen con mayor retraso en las salidas (en minutos)\n",
    "aerop_delay = vuelos2.groupby(\"Origin\")[\"DepDelay\"].sum().sort_values(ascending= False)\n",
    "aerop_delay.head(10)"
   ]
  },
  {
   "cell_type": "code",
   "execution_count": 35,
   "id": "7ee9fcc9",
   "metadata": {},
   "outputs": [
    {
     "data": {
      "text/plain": [
       "LateAircraftDelay    31557038.0\n",
       "CarrierDelay         23926070.0\n",
       "NASDelay             18739310.0\n",
       "WeatherDelay          4620160.0\n",
       "SecurityDelay          112445.0\n",
       "dtype: float64"
      ]
     },
     "execution_count": 35,
     "metadata": {},
     "output_type": "execute_result"
    }
   ],
   "source": [
    "# los principales motivos de retraso de vuelos(minutos)\n",
    "reasons_delay = vuelos2[[\"CarrierDelay\",\"WeatherDelay\",\"NASDelay\",\"SecurityDelay\",\"LateAircraftDelay\"]]\n",
    "reasons_delay.sum().sort_values(ascending=False)\n",
    "#los retrasos atribuidos a aeronaves que llegan tarde LateAircraftDelay y los retrasos atribuibles al portador CarrierDelay."
   ]
  },
  {
   "cell_type": "code",
   "execution_count": 36,
   "id": "a8e5f735",
   "metadata": {},
   "outputs": [
    {
     "data": {
      "text/plain": [
       "Origin\n",
       "IAH    12553.0\n",
       "PHX     5136.0\n",
       "LAX     4257.0\n",
       "LAS     4018.0\n",
       "EWR     3899.0\n",
       "IAD     3547.0\n",
       "CLT     3402.0\n",
       "SEA     3382.0\n",
       "JFK     2893.0\n",
       "SAN     2871.0\n",
       "Name: SecurityDelay, dtype: float64"
      ]
     },
     "execution_count": 36,
     "metadata": {},
     "output_type": "execute_result"
    }
   ],
   "source": [
    "#las 10 ciudades de origen con retrasos por factores de seguridad (minutos) Tiene mayor concentración IAH: Houston\n",
    "security_group = vuelos2.groupby(\"Origin\")[\"SecurityDelay\"].sum().sort_values(ascending = False)\n",
    "security_group.head(10)"
   ]
  },
  {
   "cell_type": "code",
   "execution_count": 37,
   "id": "24ea3616",
   "metadata": {},
   "outputs": [
    {
     "data": {
      "text/plain": [
       "Origin\n",
       "ATL    427500.0\n",
       "ORD    417122.0\n",
       "DFW    247026.0\n",
       "DTW    162312.0\n",
       "JFK    160785.0\n",
       "IAH    153050.0\n",
       "LGA    144925.0\n",
       "MSP    120342.0\n",
       "EWR    120228.0\n",
       "CVG    107150.0\n",
       "Name: WeatherDelay, dtype: float64"
      ]
     },
     "execution_count": 37,
     "metadata": {},
     "output_type": "execute_result"
    }
   ],
   "source": [
    "# Las 10 ciudades con retrasos por factores meteorológicos (minutos) \n",
    "security_group = vuelos2.groupby(\"Origin\")[\"WeatherDelay\"].sum().sort_values(ascending = False)\n",
    "security_group.head(10)"
   ]
  },
  {
   "cell_type": "code",
   "execution_count": 38,
   "id": "061a897d",
   "metadata": {},
   "outputs": [
    {
     "data": {
      "text/plain": [
       "Unnamed: 0                0\n",
       "Year                      0\n",
       "Month                     0\n",
       "DayofMonth                0\n",
       "DayOfWeek                 0\n",
       "DepTime                   0\n",
       "CRSDepTime                0\n",
       "ArrTime                   0\n",
       "CRSArrTime                0\n",
       "UniqueCarrier             0\n",
       "FlightNum                 0\n",
       "ActualElapsedTime         0\n",
       "CRSElapsedTime            0\n",
       "AirTime                   0\n",
       "ArrDelay                  0\n",
       "DepDelay                  0\n",
       "Origin                    0\n",
       "Dest                      0\n",
       "Distance                  0\n",
       "Cancelled                 0\n",
       "CancellationCode          0\n",
       "CarrierDelay              0\n",
       "WeatherDelay              0\n",
       "NASDelay                  0\n",
       "SecurityDelay             0\n",
       "LateAircraftDelay         0\n",
       "TotalDelay           680883\n",
       "velocidad                 0\n",
       "delay_arr                 0\n",
       "delay3h                   0\n",
       "Distance_km               0\n",
       "dist_group                0\n",
       "dtype: int64"
      ]
     },
     "execution_count": 38,
     "metadata": {},
     "output_type": "execute_result"
    }
   ],
   "source": [
    "#Volvemos a revisar los datos\n",
    "vuelos2.dropna(subset=[\"ArrDelay\"], inplace=True)\n",
    "vuelos2.isna().sum()"
   ]
  },
  {
   "cell_type": "code",
   "execution_count": 39,
   "id": "934c7e04",
   "metadata": {},
   "outputs": [
    {
     "data": {
      "text/plain": [
       "Unnamed: 0           0\n",
       "Year                 0\n",
       "Month                0\n",
       "DayofMonth           0\n",
       "DayOfWeek            0\n",
       "DepTime              0\n",
       "CRSDepTime           0\n",
       "ArrTime              0\n",
       "CRSArrTime           0\n",
       "UniqueCarrier        0\n",
       "FlightNum            0\n",
       "ActualElapsedTime    0\n",
       "CRSElapsedTime       0\n",
       "AirTime              0\n",
       "ArrDelay             0\n",
       "DepDelay             0\n",
       "Origin               0\n",
       "Dest                 0\n",
       "Distance             0\n",
       "Cancelled            0\n",
       "CancellationCode     0\n",
       "CarrierDelay         0\n",
       "WeatherDelay         0\n",
       "NASDelay             0\n",
       "SecurityDelay        0\n",
       "LateAircraftDelay    0\n",
       "TotalDelay           0\n",
       "velocidad            0\n",
       "delay_arr            0\n",
       "delay3h              0\n",
       "Distance_km          0\n",
       "dist_group           0\n",
       "dtype: int64"
      ]
     },
     "execution_count": 39,
     "metadata": {},
     "output_type": "execute_result"
    }
   ],
   "source": [
    "#eliminamos la columna TotalDelay que creamos para hacer una comparación\n",
    "vuelos2.dropna(subset=[\"TotalDelay\"], inplace=True)\n",
    "vuelos2.isna().sum()\n"
   ]
  },
  {
   "cell_type": "markdown",
   "id": "762671aa",
   "metadata": {},
   "source": [
    "## Exporta el data set net i amb les noves columnes a Excel."
   ]
  },
  {
   "cell_type": "code",
   "execution_count": 40,
   "id": "61975d57",
   "metadata": {},
   "outputs": [],
   "source": [
    "#exportar vuelos2 a excel\n",
    "vuelos2[:5000].to_excel(\"DelayedVuelos2.xlsx\")"
   ]
  },
  {
   "cell_type": "code",
   "execution_count": 51,
   "id": "ead96339",
   "metadata": {},
   "outputs": [],
   "source": []
  },
  {
   "cell_type": "markdown",
   "id": "8836023b",
   "metadata": {},
   "source": [
    "### Guardado como archivo cvs, no se pudo guardar como Excel\n"
   ]
  },
  {
   "cell_type": "markdown",
   "id": "a2552940",
   "metadata": {},
   "source": [
    "# SPRINT_04T01_Visualització gràfica d'un dataset"
   ]
  },
  {
   "cell_type": "markdown",
   "id": "ff386641",
   "metadata": {},
   "source": [
    "## Exercici 1\n",
    "### Crea almenys una visualització per:\n",
    "\n",
    "- Una variable categòrica (UniqueCarrier)\n",
    "- Una variable numèrica (ArrDelay)\n",
    "- Una variable numèrica i una categòrica (ArrDelay i UniqueCarrier)\n",
    "- Dues variables numèriques (ArrDelay i DepDelay)\n",
    "- Tres variables (ArrDelay, DepDelay i UniqueCarrier)\n",
    "- Més de tres variables (ArrDelay, DepDelay, AirTime i UniqueCarrier)."
   ]
  },
  {
   "cell_type": "code",
   "execution_count": 56,
   "id": "6c81af12",
   "metadata": {},
   "outputs": [
    {
     "data": {
      "text/plain": [
       "Text(0.5, 0, 'Líneas aéreas')"
      ]
     },
     "execution_count": 56,
     "metadata": {},
     "output_type": "execute_result"
    },
    {
     "data": {
      "image/png": "[encoded data removed]",
      "text/plain": [
       "<Figure size 432x288 with 1 Axes>"
      ]
     },
     "metadata": {
      "needs_background": "light"
     },
     "output_type": "display_data"
    }
   ],
   "source": [
    "# Una variable categòrica (UniqueCarrier)\n",
    "# los valores de UniqueCarrier son string. Así que se han agrupado según Demoras en Salidas \"DepDelay\"\n",
    "\n",
    "airlines_delayed = vuelos2.groupby(\"UniqueCarrier\")[\"DepDelay\"].sum().sort_values(ascending=False)\n",
    "airlines_delayed[:10].plot(kind=\"bar\", color=\"Salmon\",title=\"Las 10 aerolíneas con más retrasos en Salidas\") \n",
    "plt.grid(color = 'green', linestyle = '--', linewidth = 0.2)\n",
    "plt.ylabel(\"millones de minutos\")\n",
    "plt.xlabel(\"Líneas aéreas\")\n",
    "# los 10 aerolineas con más retrasos en salidas de aeropuerto.\n"
   ]
  },
  {
   "cell_type": "code",
   "execution_count": 57,
   "id": "4b399e39",
   "metadata": {},
   "outputs": [
    {
     "data": {
      "image/png": "[encoded data removed]",
      "text/plain": [
       "<Figure size 432x288 with 1 Axes>"
      ]
     },
     "metadata": {
      "needs_background": "light"
     },
     "output_type": "display_data"
    }
   ],
   "source": [
    "# Una variable numèrica (ArrDelay)\n",
    "vuelos2[\"ArrDelay\"].plot (kind=\"box\", title = \"Retraso en llegadas 2008 (min)\");\n",
    "# dado que la concentración de casos se ubican en el margen inferior (media = 42,20), el gráfico de box no es muy legible.\n"
   ]
  },
  {
   "cell_type": "code",
   "execution_count": 58,
   "id": "aa874a75",
   "metadata": {},
   "outputs": [
    {
     "data": {
      "text/plain": [
       "Text(0.5, 0, 'meses del año')"
      ]
     },
     "execution_count": 58,
     "metadata": {},
     "output_type": "execute_result"
    },
    {
     "data": {
      "image/png": "[encoded data removed]",
      "text/plain": [
       "<Figure size 432x288 with 1 Axes>"
      ]
     },
     "metadata": {
      "needs_background": "light"
     },
     "output_type": "display_data"
    }
   ],
   "source": [
    "# Intentamos con una agrupación, por ejemplo por Compañía aérea\n",
    "# estaríamos con una variable numérica y una categórica\n",
    "airlines_arrdel = vuelos2.groupby(\"Month\")[\"ArrDelay\"].sum()\n",
    "airlines_arrdel.plot(kind=\"bar\", title=\"Retrasos en llegadas según meses del año 2008\", color=\"CadetBlue\");\n",
    "plt.ylabel(\"millones de minutos\")\n",
    "plt.xlabel(\"meses del año\")"
   ]
  },
  {
   "cell_type": "code",
   "execution_count": 59,
   "id": "1c9525a2",
   "metadata": {},
   "outputs": [
    {
     "data": {
      "image/png": "[encoded data removed]",
      "text/plain": [
       "<Figure size 432x288 with 1 Axes>"
      ]
     },
     "metadata": {
      "needs_background": "light"
     },
     "output_type": "display_data"
    }
   ],
   "source": [
    "# total retrasos en salidas según la compañía aerea.\n",
    "x = vuelos2[\"Month\"]\n",
    "y = vuelos2[\"ArrDelay\"]\n",
    "\n",
    "plt.scatter(x,y, color=\"Pink\")\n",
    "plt.show()\n",
    "\n",
    "#Con esta agrupación podemos ver la concentración de retrasos según el mes del año.\n"
   ]
  },
  {
   "cell_type": "code",
   "execution_count": 60,
   "id": "dbe9c208",
   "metadata": {},
   "outputs": [
    {
     "data": {
      "image/png": "[encoded data removed]",
      "text/plain": [
       "<Figure size 432x288 with 1 Axes>"
      ]
     },
     "metadata": {
      "needs_background": "light"
     },
     "output_type": "display_data"
    }
   ],
   "source": [
    "# Dues variables numèriques (ArrDelay i DepDelay)\n",
    "x = vuelos2[\"ArrDelay\"]\n",
    "y = vuelos2[\"DepDelay\"]\n",
    "\n",
    "plt.scatter(x,y, color=\"Purple\")\n",
    "plt.show()\n",
    "\n",
    "#Cuanto más se retrasa en salidas, tanto más se retrasará en llegadas.\n",
    "#El gráfico muestra una clara tenencia lineal positiva."
   ]
  },
  {
   "cell_type": "code",
   "execution_count": 102,
   "id": "c031940c",
   "metadata": {},
   "outputs": [
    {
     "data": {
      "image/png": "[encoded data removed]",
      "text/plain": [
       "<Figure size 432x288 with 1 Axes>"
      ]
     },
     "metadata": {
      "needs_background": "light"
     },
     "output_type": "display_data"
    },
    {
     "name": "stdout",
     "output_type": "stream",
     "text": [
      "0.9503237562684008\n"
     ]
    }
   ],
   "source": [
    "# sacamos la línea de regresión de las dos variables para confirmar\n",
    "\n",
    "from scipy import stats\n",
    "\n",
    "x = vuelos2[\"ArrDelay\"]\n",
    "y = vuelos2[\"DepDelay\"]\n",
    "\n",
    "slope, intercept, r, p, std_err = stats.linregress(x, y)   \n",
    "\n",
    "def myfunc(x):\n",
    "  return slope * x + intercept  # definimos la pendiente y el punto de corte o intercepto\n",
    "\n",
    "mymodel = list(map(myfunc, x))\n",
    "\n",
    "plt.scatter(x, y)\n",
    "plt.plot(x, mymodel, color=\"Magenta\")\n",
    "plt.show()\n",
    "print(r)\n",
    "# con un R de 0.95 el modelo de regresión lineal explica"
   ]
  },
  {
   "cell_type": "code",
   "execution_count": 109,
   "id": "0c952ce0",
   "metadata": {},
   "outputs": [],
   "source": [
    "# Tres variables (ArrDelay, DepDelay i UniqueCarrier)\n",
    "import seaborn as sns\n"
   ]
  },
  {
   "cell_type": "code",
   "execution_count": null,
   "id": "22b787ed",
   "metadata": {},
   "outputs": [],
   "source": [
    "# Més de tres variables (ArrDelay, DepDelay, AirTime i UniqueCarrier)\n",
    "import seaborn as sns"
   ]
  },
  {
   "cell_type": "code",
   "execution_count": null,
   "id": "cfea5c35",
   "metadata": {},
   "outputs": [],
   "source": []
  },
  {
   "cell_type": "code",
   "execution_count": null,
   "id": "90964957",
   "metadata": {},
   "outputs": [],
   "source": []
  }
 ],
 "metadata": {
  "kernelspec": {
   "display_name": "Python 3",
   "language": "python",
   "name": "python3"
  },
  "language_info": {
   "codemirror_mode": {
    "name": "ipython",
    "version": 3
   },
   "file_extension": ".py",
   "mimetype": "text/x-python",
   "name": "python",
   "nbconvert_exporter": "python",
   "pygments_lexer": "ipython3",
   "version": "3.8.8"
  },
  "latex_envs": {
   "LaTeX_envs_menu_present": true,
   "autoclose": false,
   "autocomplete": true,
   "bibliofile": "biblio.bib",
   "cite_by": "apalike",
   "current_citInitial": 1,
   "eqLabelWithNumbers": true,
   "eqNumInitial": 1,
   "hotkeys": {
    "equation": "Ctrl-E",
    "itemize": "Ctrl-I"
   },
   "labels_anchors": false,
   "latex_user_defs": false,
   "report_style_numbering": false,
   "user_envs_cfg": false
  }
 },
 "nbformat": 4,
 "nbformat_minor": 5
}
